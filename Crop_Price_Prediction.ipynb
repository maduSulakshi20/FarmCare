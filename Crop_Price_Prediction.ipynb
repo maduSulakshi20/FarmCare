{
  "nbformat": 4,
  "nbformat_minor": 0,
  "metadata": {
    "colab": {
      "name": "Crop Price Prediction.ipynb",
      "provenance": [],
      "authorship_tag": "ABX9TyNjuud+DHllYsmzes2EffFa",
      "include_colab_link": true
    },
    "kernelspec": {
      "name": "python3",
      "display_name": "Python 3"
    },
    "language_info": {
      "name": "python"
    }
  },
  "cells": [
    {
      "cell_type": "markdown",
      "metadata": {
        "id": "view-in-github",
        "colab_type": "text"
      },
      "source": [
        "<a href=\"https://colab.research.google.com/github/maduSulakshi20/FarmCare/blob/Price-Prediction-(IT19118178)/Crop_Price_Prediction.ipynb\" target=\"_parent\"><img src=\"https://colab.research.google.com/assets/colab-badge.svg\" alt=\"Open In Colab\"/></a>"
      ]
    },
    {
      "cell_type": "markdown",
      "source": [
        "**FarmCare - Crop Price Prediction (Crop Price Prediction for Next 12 Months)** "
      ],
      "metadata": {
        "id": "bZmoXuGjj9ti"
      }
    },
    {
      "cell_type": "markdown",
      "source": [
        "Dataset used : \n",
        "1.  Rainfall and temperature (2015 - 2021)\n",
        "\n",
        "2.  Wholesale price of crops\n",
        "\n",
        "\n"
      ],
      "metadata": {
        "id": "jORI7Gw-XiDD"
      }
    },
    {
      "cell_type": "code",
      "source": [
        "import openpyxl\n",
        "import pandas as pd"
      ],
      "metadata": {
        "id": "a4QUhxtybsno"
      },
      "execution_count": 33,
      "outputs": []
    },
    {
      "cell_type": "markdown",
      "source": [
        "Load Rainfall and Temperature data"
      ],
      "metadata": {
        "id": "YYL0zTOsdQET"
      }
    },
    {
      "cell_type": "code",
      "source": [
        "start_raw = 5\n",
        "start_column = 2\n",
        "num_columns = 17\n",
        "rainfall_temp_file_path = \"//content//Rainfall.xlsx\""
      ],
      "metadata": {
        "id": "rdqxk-WMbiUs"
      },
      "execution_count": 34,
      "outputs": []
    },
    {
      "cell_type": "code",
      "source": [
        "# Read data in columns and write to a list\n",
        "def get_column(sheet_obj, start_raw, column):\n",
        "\n",
        "    raw_num = start_raw\n",
        "    lst = []\n",
        "\n",
        "    while(True):\n",
        "\n",
        "        cell_obj = sheet_obj.cell(row=raw_num, column=column)\n",
        "        if cell_obj.value == None:\n",
        "          break\n",
        "        lst.append(cell_obj.value)\n",
        "        raw_num += 1\n",
        "\n",
        "    return lst\n",
        "\n",
        "# Read data in raws and write to a list\n",
        "def get_raw(sheet_obj, start_column, raw, num_columns):\n",
        "\n",
        "    col_num = start_column\n",
        "    num_columns += start_column\n",
        "    lst = []\n",
        "\n",
        "    while(True):\n",
        "\n",
        "        cell_obj = sheet_obj.cell(row=raw, column=col_num)\n",
        "        if num_columns == col_num:\n",
        "          break\n",
        "        lst.append(cell_obj.value)\n",
        "        col_num += 1\n",
        "\n",
        "    return lst"
      ],
      "metadata": {
        "id": "t2C6GdRTcMZU"
      },
      "execution_count": 35,
      "outputs": []
    },
    {
      "cell_type": "code",
      "source": [
        "# Load the dataset and define the sheet which has data\n",
        "wb_obj = openpyxl.load_workbook(rainfall_temp_file_path)\n",
        "sheet_name = wb_obj.sheetnames[1]\n",
        "sheet_obj = wb_obj[sheet_name]"
      ],
      "metadata": {
        "id": "P-1ShxvQ97rs"
      },
      "execution_count": 36,
      "outputs": []
    },
    {
      "cell_type": "code",
      "source": [
        "#Read column values in the excel\n",
        "title_lst = get_column(sheet_obj, start_raw, start_column)"
      ],
      "metadata": {
        "id": "fqzJzPVW-TfH"
      },
      "execution_count": 37,
      "outputs": []
    },
    {
      "cell_type": "code",
      "source": [
        "# Create a list of values in the column titles and the array\n",
        "temp_data = dict()\n",
        "rain_data = dict()\n",
        "district = ''\n",
        "districts = []\n",
        "\n",
        "for i, item in enumerate(title_lst):\n",
        "  if i%14 == 0: \n",
        "    district = item.strip().lower()\n",
        "    districts.append(district)\n",
        "    rain_data[district] = []\n",
        "    temp_data[district] = []\n",
        "  elif (i-1)%14 != 0:\n",
        "    rain_data[district].append(get_raw(sheet_obj, start_column+2, i+start_raw, 7))\n",
        "    temp_data[district].append(get_raw(sheet_obj, start_column+10, i+start_raw, 7))\n",
        "\n",
        "print(districts)"
      ],
      "metadata": {
        "colab": {
          "base_uri": "https://localhost:8080/"
        },
        "id": "KEYD6OJ0_dC6",
        "outputId": "fd595c87-4b6c-4914-fa86-4fa2d747457c"
      },
      "execution_count": 38,
      "outputs": [
        {
          "output_type": "stream",
          "name": "stdout",
          "text": [
            "['colombo', 'jaffna', 'trincomalee', 'hambantota', 'ratnapura', 'anuradhapura', 'katugastota', 'bandarawela', 'nuwara eliya', 'kurunegala', 'puttalam', 'galle', 'badulla', 'mannar', 'vavuniya', 'mahailluppallama', 'batticaloa', 'katunayake', 'ratmalana', 'potuvil', 'monaragala', 'polonnaruwa', 'mattala']\n"
          ]
        }
      ]
    },
    {
      "cell_type": "markdown",
      "source": [
        ""
      ],
      "metadata": {
        "id": "Hc0oxzc5dNTO"
      }
    }
  ]
}