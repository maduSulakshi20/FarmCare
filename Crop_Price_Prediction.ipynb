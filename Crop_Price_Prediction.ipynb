{
  "nbformat": 4,
  "nbformat_minor": 0,
  "metadata": {
    "colab": {
      "name": "Crop Price Prediction.ipynb",
      "provenance": [],
      "authorship_tag": "ABX9TyMtHquJSYIYDaiOYzeYITmP",
      "include_colab_link": true
    },
    "kernelspec": {
      "name": "python3",
      "display_name": "Python 3"
    },
    "language_info": {
      "name": "python"
    }
  },
  "cells": [
    {
      "cell_type": "markdown",
      "metadata": {
        "id": "view-in-github",
        "colab_type": "text"
      },
      "source": [
        "<a href=\"https://colab.research.google.com/github/maduSulakshi20/FarmCare/blob/Price-Prediction-(IT19118178)/Crop_Price_Prediction.ipynb\" target=\"_parent\"><img src=\"https://colab.research.google.com/assets/colab-badge.svg\" alt=\"Open In Colab\"/></a>"
      ]
    },
    {
      "cell_type": "markdown",
      "source": [
        "**FarmCare - Crop Price Prediction (Crop Price Prediction for Next 12 Months)** "
      ],
      "metadata": {
        "id": "bZmoXuGjj9ti"
      }
    },
    {
      "cell_type": "markdown",
      "source": [
        "Dataset used : \n",
        "1.  Rainfall and temperature (2015 - 2021)\n",
        "\n",
        "2.  Wholesale price of crops\n",
        "\n",
        "\n"
      ],
      "metadata": {
        "id": "jORI7Gw-XiDD"
      }
    },
    {
      "cell_type": "code",
      "source": [
        "import openpyxl\n",
        "import pandas as pd"
      ],
      "metadata": {
        "id": "a4QUhxtybsno"
      },
      "execution_count": 1,
      "outputs": []
    },
    {
      "cell_type": "markdown",
      "source": [
        "Load Rainfall and Temperature data"
      ],
      "metadata": {
        "id": "YYL0zTOsdQET"
      }
    },
    {
      "cell_type": "code",
      "source": [
        "# Load the rainfall and temperature data set \n",
        "# Give the start raw, and column cells \n",
        "start_raw = 5\n",
        "start_column = 2\n",
        "num_columns = 17\n",
        "rainfall_temp_file_path = \"//content//Rainfall & Temperature.xlsx\""
      ],
      "metadata": {
        "id": "rdqxk-WMbiUs"
      },
      "execution_count": 2,
      "outputs": []
    },
    {
      "cell_type": "code",
      "source": [
        "# Read data in columns and write to a list\n",
        "def get_column(sheet_obj, start_raw, column):\n",
        "\n",
        "    raw_num = start_raw\n",
        "    lst = []\n",
        "\n",
        "    while(True):\n",
        "\n",
        "        cell_obj = sheet_obj.cell(row=raw_num, column=column)\n",
        "        if cell_obj.value == None:\n",
        "          break\n",
        "        lst.append(cell_obj.value)\n",
        "        raw_num += 1\n",
        "\n",
        "    return lst\n",
        "\n",
        "# Read data in raws and write to a list\n",
        "def get_raw(sheet_obj, start_column, raw, num_columns):\n",
        "\n",
        "    col_num = start_column\n",
        "    num_columns += start_column\n",
        "    lst = []\n",
        "\n",
        "    while(True):\n",
        "\n",
        "        cell_obj = sheet_obj.cell(row=raw, column=col_num)\n",
        "        if num_columns == col_num:\n",
        "          break\n",
        "        lst.append(cell_obj.value)\n",
        "        col_num += 1\n",
        "\n",
        "    return lst"
      ],
      "metadata": {
        "id": "t2C6GdRTcMZU"
      },
      "execution_count": 3,
      "outputs": []
    },
    {
      "cell_type": "code",
      "source": [
        "# Load the dataset and define the sheet which has data\n",
        "wb_obj = openpyxl.load_workbook(rainfall_temp_file_path)\n",
        "sheet_name = wb_obj.sheetnames[1]\n",
        "sheet_obj = wb_obj[sheet_name]"
      ],
      "metadata": {
        "id": "P-1ShxvQ97rs"
      },
      "execution_count": 4,
      "outputs": []
    },
    {
      "cell_type": "code",
      "source": [
        "#Read column values in the excel\n",
        "title_lst = get_column(sheet_obj, start_raw, start_column)"
      ],
      "metadata": {
        "id": "fqzJzPVW-TfH"
      },
      "execution_count": 5,
      "outputs": []
    },
    {
      "cell_type": "code",
      "source": [
        "# Create a list of values in the column titles and the array\n",
        "temp_data = dict()\n",
        "rain_data = dict()\n",
        "district = ''\n",
        "districts = []\n",
        "\n",
        "for i, item in enumerate(title_lst):\n",
        "  if i%14 == 0: \n",
        "    district = item.strip().lower()\n",
        "    districts.append(district)\n",
        "    rain_data[district] = []\n",
        "    temp_data[district] = []\n",
        "  elif (i-1)%14 != 0:\n",
        "    rain_data[district].append(get_raw(sheet_obj, start_column+2, i+start_raw, 7))\n",
        "    temp_data[district].append(get_raw(sheet_obj, start_column+10, i+start_raw, 7))\n",
        "\n",
        "print(districts)\n"
      ],
      "metadata": {
        "colab": {
          "base_uri": "https://localhost:8080/"
        },
        "id": "7FS_Qf6dnpSu",
        "outputId": "3ef8f776-138e-48f6-ac9c-def19b1849b2"
      },
      "execution_count": 6,
      "outputs": [
        {
          "output_type": "stream",
          "name": "stdout",
          "text": [
            "['colombo', 'jaffna', 'trincomalee', 'hambantota', 'ratnapura', 'anuradhapura', 'katugastota', 'bandarawela', 'nuwara eliya', 'kurunegala', 'puttalam', 'galle', 'badulla', 'mannar', 'vavuniya', 'mahailluppallama', 'batticaloa', 'katunayake', 'ratmalana', 'potuvil', 'monaragala', 'polonnaruwa', 'mattala']\n"
          ]
        }
      ]
    },
    {
      "cell_type": "code",
      "source": [
        "# Read rainfall data to find if there is a 0 or null value\n",
        "# If 0 or null add average value to those cells\n",
        "for district in districts:\n",
        "  for i, lst in enumerate(rain_data[district]):\n",
        "    avg = 0\n",
        "    num_items = 0\n",
        "    for j, item in enumerate(lst):\n",
        "      val = 0\n",
        "      try: \n",
        "        val = float(item)\n",
        "        num_items += 1\n",
        "      except: pass\n",
        "      avg += val\n",
        "    avg /= num_items\n",
        "    for j, item in enumerate(lst):\n",
        "      try: float(item)\n",
        "      except: rain_data[district][i][j] = round(avg, 2)\n",
        "\n",
        "# Read temperature data to find if there is a 0 or null value\n",
        "# If 0 or null add average value to those cells\n",
        "\n",
        "for district in districts:\n",
        "  for i, lst in enumerate(temp_data[district]):\n",
        "    avg = 0\n",
        "    num_items = 0\n",
        "    for j, item in enumerate(lst):\n",
        "      val = 0\n",
        "      try: \n",
        "        val = float(item)\n",
        "        num_items += 1\n",
        "      except: pass\n",
        "      avg += val\n",
        "    avg /= num_items\n",
        "    for j, item in enumerate(lst):\n",
        "      try: float(item)\n",
        "      except: temp_data[district][i][j] = round(avg, 2)\n"
      ],
      "metadata": {
        "id": "pyd5bMvEoAKu"
      },
      "execution_count": 7,
      "outputs": []
    },
    {
      "cell_type": "code",
      "source": [
        "# Display the rain data list in Colombo (2015 - 2020 monthly wise)\n",
        "rain_data['colombo']"
      ],
      "metadata": {
        "colab": {
          "base_uri": "https://localhost:8080/"
        },
        "id": "NbnlEQzmpBxn",
        "outputId": "e4a1dc68-a8ff-4051-d3fb-b8de163485e6"
      },
      "execution_count": 10,
      "outputs": [
        {
          "output_type": "execute_result",
          "data": {
            "text/plain": [
              "[[32.7, 65.3, 82.7, 45.7, 15.4, 115.6, 148],\n",
              " [122.5, 106.7, 92.3, 108.8, 157, 0.1, 35],\n",
              " [220.9, 91.3, 133.8, 68.8, 41.4, 41.3, 161],\n",
              " [267.7, 185.9, 81.2, 265, 193.8, 212.5, 209],\n",
              " [169.2, 752.4, 343.4, 421.7, 126.9, 200.2, 246],\n",
              " [237.8, 132.3, 141.5, 155.8, 257.2, 111.9, 127],\n",
              " [37.3, 49.2, 47.2, 68.9, 136.1, 196.1, 142],\n",
              " [90.7, 1.1, 70.3, 63.9, 288.4, 97.5, 120],\n",
              " [631.4, 29, 355.2, 263.7, 609.8, 517.7, 139],\n",
              " [235.4, 374, 467.1, 539.7, 354.9, 125.6, 240],\n",
              " [525.8, 404.8, 294.2, 420.7, 433.6, 143.6, 417],\n",
              " [376.6, 165.1, 172.3, 139.5, 250.3, 321.6, 76]]"
            ]
          },
          "metadata": {},
          "execution_count": 10
        }
      ]
    }
  ]
}