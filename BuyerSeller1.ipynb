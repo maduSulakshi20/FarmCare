{
  "nbformat": 4,
  "nbformat_minor": 0,
  "metadata": {
    "colab": {
      "name": "BuyerSeller1.ipynb",
      "provenance": [],
      "collapsed_sections": [],
      "authorship_tag": "ABX9TyNlZnzAIxCwrl5g3WGnnEM5",
      "include_colab_link": true
    },
    "kernelspec": {
      "name": "python3",
      "display_name": "Python 3"
    },
    "language_info": {
      "name": "python"
    }
  },
  "cells": [
    {
      "cell_type": "markdown",
      "metadata": {
        "id": "view-in-github",
        "colab_type": "text"
      },
      "source": [
        "<a href=\"https://colab.research.google.com/github/maduSulakshi20/FarmCare/blob/Connect-Buyers-%26-Sellers/BuyerSeller1.ipynb\" target=\"_parent\"><img src=\"https://colab.research.google.com/assets/colab-badge.svg\" alt=\"Open In Colab\"/></a>"
      ]
    },
    {
      "cell_type": "code",
      "execution_count": 1,
      "metadata": {
        "id": "9Oj_mfI5b8pF"
      },
      "outputs": [],
      "source": [
        "import openpyxl"
      ]
    },
    {
      "cell_type": "code",
      "source": [
        "def get_raw(sheet_obj, raw, columns):\n",
        "\n",
        "    lst = []\n",
        "\n",
        "    for column in columns:\n",
        "      cell_obj = sheet_obj.cell(row=raw, column=column)\n",
        "      lst.append(cell_obj.value)\n",
        "\n",
        "    return lst\n",
        "\n",
        "def get_column(sheet_obj, start_raw_num, columns):\n",
        "\n",
        "    raw_num = start_raw_num\n",
        "    lst = []\n",
        "\n",
        "    while(True):\n",
        "\n",
        "        cell_obj = sheet_obj.cell(row=raw_num, column=columns[0])\n",
        "        if cell_obj.value == None:\n",
        "          break\n",
        "        raw = get_raw(sheet_obj, raw_num, columns)\n",
        "        lst.append(raw)\n",
        "        raw_num += 1\n",
        "\n",
        "    return lst"
      ],
      "metadata": {
        "id": "h7UqPtGIbSlE"
      },
      "execution_count": 2,
      "outputs": []
    },
    {
      "cell_type": "code",
      "source": [
        "buyer_excel_path = \"//content//Mock data buyer (Wholesaler).xlsx\"\n",
        "seller_excel_path = \"//content//Mock data seller( Farmer).xlsx\"\n",
        "\n",
        "wb_obj = openpyxl.load_workbook(buyer_excel_path)\n",
        "sheet_name = wb_obj.sheetnames[0]\n",
        "sheet_obj = wb_obj[sheet_name]\n",
        "buyers_lst = get_column(sheet_obj, 2, [i for i in range(1, 7)])\n",
        "\n",
        "wb_obj = openpyxl.load_workbook(seller_excel_path)\n",
        "sheet_name = wb_obj.sheetnames[0]\n",
        "sheet_obj = wb_obj[sheet_name]\n",
        "sellers_lst = get_column(sheet_obj, 2, [i for i in range(1, 7)])"
      ],
      "metadata": {
        "id": "HzR0M6Wxb4qO"
      },
      "execution_count": 3,
      "outputs": []
    }
  ]
}