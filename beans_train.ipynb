{
  "nbformat": 4,
  "nbformat_minor": 0,
  "metadata": {
    "colab": {
      "name": "beans_train.ipynb",
      "provenance": [],
      "collapsed_sections": [],
      "authorship_tag": "ABX9TyMYwnDrjklmVE6IxJ6OVhzK",
      "include_colab_link": true
    },
    "kernelspec": {
      "name": "python3",
      "display_name": "Python 3"
    },
    "language_info": {
      "name": "python"
    }
  },
  "cells": [
    {
      "cell_type": "markdown",
      "metadata": {
        "id": "view-in-github",
        "colab_type": "text"
      },
      "source": [
        "<a href=\"https://colab.research.google.com/github/maduSulakshi20/FarmCare/blob/Disease-Identification/beans_train.ipynb\" target=\"_parent\"><img src=\"https://colab.research.google.com/assets/colab-badge.svg\" alt=\"Open In Colab\"/></a>"
      ]
    },
    {
      "cell_type": "code",
      "execution_count": 1,
      "metadata": {
        "id": "aAzmKsDQhv1Y"
      },
      "outputs": [],
      "source": [
        "import zipfile\n",
        "import numpy as np\n",
        "import pathlib\n",
        "import random\n",
        "import matplotlib.pyplot as plt\n",
        "import matplotlib.image as mpimg\n",
        "import os\n",
        "from keras.preprocessing.image import ImageDataGenerator\n",
        "import tensorflow as tf"
      ]
    },
    {
      "cell_type": "code",
      "source": [
        "! pip install kaggle\n",
        "! mkdir ~/.kaggle\n",
        "! cp kaggle.json ~/.kaggle/\n",
        "! chmod 600 ~/.kaggle/kaggle.json\n",
        "! kaggle datasets download -d prakharrastogi534/bean-leaf-dataset # beans"
      ],
      "metadata": {
        "colab": {
          "base_uri": "https://localhost:8080/"
        },
        "id": "35kmRIqek2ia",
        "outputId": "f5f57bb3-b66a-464b-918c-25bc3e3b73eb"
      },
      "execution_count": 2,
      "outputs": [
        {
          "output_type": "stream",
          "name": "stdout",
          "text": [
            "Requirement already satisfied: kaggle in /usr/local/lib/python3.7/dist-packages (1.5.12)\n",
            "Requirement already satisfied: python-slugify in /usr/local/lib/python3.7/dist-packages (from kaggle) (6.1.2)\n",
            "Requirement already satisfied: requests in /usr/local/lib/python3.7/dist-packages (from kaggle) (2.23.0)\n",
            "Requirement already satisfied: python-dateutil in /usr/local/lib/python3.7/dist-packages (from kaggle) (2.8.2)\n",
            "Requirement already satisfied: tqdm in /usr/local/lib/python3.7/dist-packages (from kaggle) (4.64.0)\n",
            "Requirement already satisfied: six>=1.10 in /usr/local/lib/python3.7/dist-packages (from kaggle) (1.15.0)\n",
            "Requirement already satisfied: urllib3 in /usr/local/lib/python3.7/dist-packages (from kaggle) (1.24.3)\n",
            "Requirement already satisfied: certifi in /usr/local/lib/python3.7/dist-packages (from kaggle) (2021.10.8)\n",
            "Requirement already satisfied: text-unidecode>=1.3 in /usr/local/lib/python3.7/dist-packages (from python-slugify->kaggle) (1.3)\n",
            "Requirement already satisfied: idna<3,>=2.5 in /usr/local/lib/python3.7/dist-packages (from requests->kaggle) (2.10)\n",
            "Requirement already satisfied: chardet<4,>=3.0.2 in /usr/local/lib/python3.7/dist-packages (from requests->kaggle) (3.0.4)\n",
            "Downloading bean-leaf-dataset.zip to /content\n",
            " 84% 145M/172M [00:06<00:01, 20.1MB/s]\n",
            "100% 172M/172M [00:06<00:00, 27.8MB/s]\n"
          ]
        }
      ]
    },
    {
      "cell_type": "code",
      "source": [
        "zip_ref = zipfile.ZipFile('/content/bean-leaf-dataset.zip')\n",
        "zip_ref.extractall()\n",
        "zip_ref.close()"
      ],
      "metadata": {
        "id": "56qyNK-ElDCR"
      },
      "execution_count": 3,
      "outputs": []
    },
    {
      "cell_type": "code",
      "source": [
        "train_imgs_path = '/content/train/train/'\n",
        "test_imgs_path = '/content/test/test/'"
      ],
      "metadata": {
        "id": "NC6-9IrVlLeR"
      },
      "execution_count": 4,
      "outputs": []
    },
    {
      "cell_type": "code",
      "source": [
        "!dir {test_imgs_path}\n",
        "!dir {train_imgs_path}"
      ],
      "metadata": {
        "colab": {
          "base_uri": "https://localhost:8080/"
        },
        "id": "tGJhn15ZlQf-",
        "outputId": "7a8e5a27-9740-45c9-f057-e9741cb9a39a"
      },
      "execution_count": 5,
      "outputs": [
        {
          "output_type": "stream",
          "name": "stdout",
          "text": [
            "angular_leaf_spot  bean_rust  healthy\n",
            "angular_leaf_spot  bean_rust  healthy\n"
          ]
        }
      ]
    },
    {
      "cell_type": "code",
      "source": [
        "def class_names_num_imgs_per_class(path):\n",
        "  data_dir = pathlib.Path(path)\n",
        "  class_names = np.array(sorted([item.name for item in data_dir.glob('*')]))\n",
        "\n",
        "  num_img_class = dict()\n",
        "  for class_name in class_names:\n",
        "\n",
        "    path_to_class = path + class_name\n",
        "    class_dir = pathlib.Path(path_to_class)\n",
        "    num_img_class[class_name] = len([item.name for item in class_dir.glob('*')])\n",
        "  \n",
        "  return num_img_class"
      ],
      "metadata": {
        "id": "uvY4InyJmZWd"
      },
      "execution_count": 6,
      "outputs": []
    },
    {
      "cell_type": "code",
      "source": [
        "print(class_names_num_imgs_per_class(test_imgs_path))"
      ],
      "metadata": {
        "colab": {
          "base_uri": "https://localhost:8080/"
        },
        "id": "HD-QAprtmbwN",
        "outputId": "88977429-0f75-427b-f5f7-e005ca6d3da7"
      },
      "execution_count": 7,
      "outputs": [
        {
          "output_type": "stream",
          "name": "stdout",
          "text": [
            "{'angular_leaf_spot': 43, 'bean_rust': 43, 'healthy': 42}\n"
          ]
        }
      ]
    },
    {
      "cell_type": "code",
      "source": [
        "class_names_num_imgs = class_names_num_imgs_per_class(train_imgs_path)\n",
        "print(class_names_num_imgs)\n",
        "class_names = class_names_num_imgs.keys()"
      ],
      "metadata": {
        "colab": {
          "base_uri": "https://localhost:8080/"
        },
        "id": "XSjPlYncmvic",
        "outputId": "24f1ad0b-4295-4ad8-a5e3-d060183dd4b8"
      },
      "execution_count": 8,
      "outputs": [
        {
          "output_type": "stream",
          "name": "stdout",
          "text": [
            "{'angular_leaf_spot': 345, 'bean_rust': 348, 'healthy': 342}\n"
          ]
        }
      ]
    }
  ]
}