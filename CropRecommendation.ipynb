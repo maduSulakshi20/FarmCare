{
  "nbformat": 4,
  "nbformat_minor": 0,
  "metadata": {
    "colab": {
      "name": "CropRecommendation.ipynb",
      "provenance": [],
      "authorship_tag": "ABX9TyMjq/k2ukeDJhH5eI06Z8eX",
      "include_colab_link": true
    },
    "kernelspec": {
      "name": "python3",
      "display_name": "Python 3"
    },
    "language_info": {
      "name": "python"
    }
  },
  "cells": [
    {
      "cell_type": "markdown",
      "metadata": {
        "id": "view-in-github",
        "colab_type": "text"
      },
      "source": [
        "<a href=\"https://colab.research.google.com/github/maduSulakshi20/FarmCare/blob/Crop-Recommandation-(IT19199986)/CropRecommendation.ipynb\" target=\"_parent\"><img src=\"https://colab.research.google.com/assets/colab-badge.svg\" alt=\"Open In Colab\"/></a>"
      ]
    },
    {
      "cell_type": "markdown",
      "source": [
        "# **Imports**"
      ],
      "metadata": {
        "id": "H2a1Y-8k9b8u"
      }
    },
    {
      "cell_type": "code",
      "execution_count": 20,
      "metadata": {
        "id": "UwNrKXObcfYG"
      },
      "outputs": [],
      "source": [
        "import openpyxl\n",
        "import numpy as np\n",
        "import pandas as pd"
      ]
    },
    {
      "cell_type": "markdown",
      "source": [
        "# **Soil Type For Crops**"
      ],
      "metadata": {
        "id": "nEEKilh29r3K"
      }
    },
    {
      "cell_type": "code",
      "source": [
        "crop_soil_type = {\n",
        "    'fruits': ['diyasilu', 'regosols'],\n",
        "    'vegetable': [\n",
        "                  'reddish brown',\n",
        "                  'red yellow podzolic',\n",
        "                  'immature brown loams',\n",
        "                  'reddish brown latosolic',\n",
        "                  'lithosol',\n",
        "                  'diyasilu'\n",
        "                  ],\n",
        "    'red chili': ['red latosols'],\n",
        "    'rice': [\n",
        "            'reddish brown latosolic',\n",
        "            'immature brown loams',\n",
        "            'red yellow latasol',\n",
        "            'reddish brown',\n",
        "            'diyasilu',\n",
        "            'lithosol',\n",
        "            'red yellow podzolic',\n",
        "            ]\n",
        "}\n",
        "crop_to_soil_crop = {\n",
        "  'plantain':  'fruits',\n",
        "  'limes': 'fruits',\n",
        "  'oranges': 'fruits',\n",
        "  'papaw': 'fruits',\n",
        "  'potatoes': 'vegetable',\n",
        "  'red onion': 'vegetable',\n",
        "  'big onion': 'vegetable',\n",
        "  'chillies': 'red chili',\n",
        "  'beans': 'fruits',\n",
        "  'brinjals': 'fruits',\n",
        "  'cabbage': 'vegetable',\n",
        "  'carrot': 'vegetable',\n",
        "  'red pumpkin': 'vegetable',\n",
        "  'snake gourd': 'vegetable',\n",
        "  'paddy': 'rice'\n",
        "}"
      ],
      "metadata": {
        "id": "h8sFQb771nzQ"
      },
      "execution_count": 21,
      "outputs": []
    },
    {
      "cell_type": "markdown",
      "source": [
        "# **Production (Data extraction and preprocessing)**"
      ],
      "metadata": {
        "id": "RAedewn198et"
      }
    },
    {
      "cell_type": "markdown",
      "source": [
        "# Read data from excel"
      ],
      "metadata": {
        "id": "SPLGnXMT-Jgz"
      }
    },
    {
      "cell_type": "code",
      "source": [
        "def get_column(sheet_obj, start_raw_num, column_num):\n",
        "\n",
        "    raw_num = start_raw_num\n",
        "    lst = []\n",
        "\n",
        "    while(True):\n",
        "\n",
        "        cell_obj = sheet_obj.cell(row=raw_num, column=column_num)\n",
        "        if cell_obj.value == None:\n",
        "          break\n",
        "        lst.append(cell_obj.value)\n",
        "        raw_num += 1\n",
        "\n",
        "    return lst\n",
        "\n",
        "def get_raw(sheet_obj, raw, columns):\n",
        "\n",
        "    lst = []\n",
        "\n",
        "    for column in columns:\n",
        "      cell_obj = sheet_obj.cell(row=raw, column=column)\n",
        "      lst.append(cell_obj.value)\n",
        "\n",
        "    return lst\n",
        "\n",
        "def get_extent_production(sheet_obj, start_raw_other, columns, end_year, end_district, ignore_districts):\n",
        "  raw_num = start_raw_other\n",
        "  data = []\n",
        "  while True:\n",
        "    lst = get_raw(sheet_obj, raw_num, columns)\n",
        "\n",
        "    try: year = int(lst[0])\n",
        "    except: \n",
        "      raw_num += 1\n",
        "      continue\n",
        "\n",
        "    district = lst[1].strip().lower()\n",
        "    extent = lst[2]\n",
        "    production = lst[3]\n",
        "\n",
        "    if year == end_year and district == end_district: break\n",
        "\n",
        "    extent_val = 0.0\n",
        "    production_val = 0.0\n",
        "\n",
        "    try:\n",
        "      extent_val = float(extent)\n",
        "    except:\n",
        "      extent_val = 0.0\n",
        "\n",
        "    try:\n",
        "      production_val = float(production)\n",
        "    except:\n",
        "      production_val = 0.0\n",
        "\n",
        "    if district not in ignore_districts:\n",
        "      data.append([year, district, extent_val, production_val])\n",
        "\n",
        "    raw_num += 1\n",
        "  return data"
      ],
      "metadata": {
        "id": "3cyL8NUH6Q_o"
      },
      "execution_count": 22,
      "outputs": []
    },
    {
      "cell_type": "code",
      "source": [
        "price_excel_path = \"//content//Extent & Production.xlsx\"\n",
        "\n",
        "data_ym_prod = {\n",
        "    'maha season': {},\n",
        "    'yala season': {}\n",
        "}\n",
        "\n",
        "data_prod = {}\n",
        "\n",
        "wb_obj = openpyxl.load_workbook(price_excel_path)"
      ],
      "metadata": {
        "id": "42Hk1wmA_W3D"
      },
      "execution_count": 23,
      "outputs": []
    },
    {
      "cell_type": "code",
      "source": [
        "sheet_name_other = wb_obj.sheetnames[0]\n",
        "sheet_obj_other = wb_obj[sheet_name_other]\n",
        "\n",
        "start_raw_other = 5\n",
        "\n",
        "columns_other_potatoes_m = [3, 4, 5, 6]\n",
        "columns_other_red_onion_m = [3, 4, 7, 8]\n",
        "columns_other_big_onion_m = [3, 4, 9, 10]\n",
        "columns_other_chillies_m = [3, 4, 11, 12]\n",
        "\n",
        "columns_other_potatoes_y = [3, 4, 14, 15]\n",
        "columns_other_red_onion_y = [3, 4, 16, 17]\n",
        "columns_other_big_onion_y = [3, 4, 18, 19]\n",
        "columns_other_chillies_y = [3, 4, 20, 21]\n",
        "\n",
        "data_ym_prod['maha season']['potatoes'] = get_extent_production(sheet_obj_other, start_raw_other, columns_other_potatoes_m, \n",
        "                                                        2020, 'sri lanka', ['sri lanka'])\n",
        "data_ym_prod['maha season']['red onion'] = get_extent_production(sheet_obj_other, start_raw_other, columns_other_red_onion_m, \n",
        "                                                         2020, 'sri lanka', ['sri lanka'])\n",
        "data_ym_prod['maha season']['big onion'] = get_extent_production(sheet_obj_other, start_raw_other, columns_other_big_onion_m, \n",
        "                                                         2020, 'sri lanka', ['sri lanka'])\n",
        "data_ym_prod['maha season']['chillies'] = get_extent_production(sheet_obj_other, start_raw_other, columns_other_chillies_m, \n",
        "                                                         2020, 'sri lanka', ['sri lanka'])\n",
        "\n",
        "data_ym_prod['yala season']['potatoes'] = get_extent_production(sheet_obj_other, start_raw_other, columns_other_potatoes_y, \n",
        "                                                        2020, 'sri lanka', ['sri lanka'])\n",
        "data_ym_prod['yala season']['red onion'] = get_extent_production(sheet_obj_other, start_raw_other, columns_other_red_onion_y, \n",
        "                                                         2020, 'sri lanka', ['sri lanka'])\n",
        "data_ym_prod['yala season']['big onion'] = get_extent_production(sheet_obj_other, start_raw_other, columns_other_big_onion_y, \n",
        "                                                         2020, 'sri lanka', ['sri lanka'])\n",
        "data_ym_prod['yala season']['chillies'] = get_extent_production(sheet_obj_other, start_raw_other, columns_other_chillies_y, \n",
        "                                                         2020, 'sri lanka', ['sri lanka'])"
      ],
      "metadata": {
        "id": "oU7CyBXsEBug"
      },
      "execution_count": 24,
      "outputs": []
    },
    {
      "cell_type": "code",
      "source": [
        "sheet_name_vegetables = wb_obj.sheetnames[1]\n",
        "sheet_obj_vegetables = wb_obj[sheet_name_vegetables]\n",
        "\n",
        "start_raw_vegetables = 6\n",
        "\n",
        "columns_vegetables_beans_m = [3, 4, 5, 6]\n",
        "columns_vegetables_brinjals_m = [3, 4, 7, 8]\n",
        "columns_vegetables_cabbage_m = [3, 4, 9, 10]\n",
        "columns_vegetables_carrot_m = [3, 4, 11, 12]\n",
        "columns_vegetables_red_pumpkin_m = [3, 4, 13, 14]\n",
        "columns_vegetables_snake_gourd_m = [3, 4, 15, 16]\n",
        "columns_vegetables_tomatoes_m = [3, 4, 17, 18]\n",
        "\n",
        "columns_vegetables_beans_y = [3, 4, 20, 21]\n",
        "columns_vegetables_brinjals_y = [3, 4, 22, 23]\n",
        "columns_vegetables_cabbage_y = [3, 4, 24, 25]\n",
        "columns_vegetables_carrot_y = [3, 4, 26, 27]\n",
        "columns_vegetables_red_pumpkin_y = [3, 4, 28, 29]\n",
        "columns_vegetables_snake_gourd_y = [3, 4, 30, 31]\n",
        "columns_vegetables_tomatoes_y = [3, 4, 32, 33]\n",
        "\n",
        "data_ym_prod['maha season']['beans'] = get_extent_production(sheet_obj_vegetables, start_raw_vegetables, \n",
        "                                                     columns_vegetables_beans_m, 2020, 'sri lanka', ['sri lanka'])\n",
        "data_ym_prod['maha season']['brinjals'] = get_extent_production(sheet_obj_vegetables, start_raw_vegetables, \n",
        "                                                     columns_vegetables_brinjals_m, 2020, 'sri lanka', ['sri lanka'])\n",
        "data_ym_prod['maha season']['cabbage'] = get_extent_production(sheet_obj_vegetables, start_raw_vegetables, \n",
        "                                                     columns_vegetables_cabbage_m, 2020, 'sri lanka', ['sri lanka'])\n",
        "data_ym_prod['maha season']['carrot'] = get_extent_production(sheet_obj_vegetables, start_raw_vegetables, \n",
        "                                                     columns_vegetables_carrot_m, 2020, 'sri lanka', ['sri lanka'])\n",
        "data_ym_prod['maha season']['red pumpkin'] = get_extent_production(sheet_obj_vegetables, start_raw_vegetables, \n",
        "                                                     columns_vegetables_red_pumpkin_m, 2020, 'sri lanka', ['sri lanka'])\n",
        "data_ym_prod['maha season']['snake gourd'] = get_extent_production(sheet_obj_vegetables, start_raw_vegetables, \n",
        "                                                     columns_vegetables_snake_gourd_m, 2020, 'sri lanka', ['sri lanka'])\n",
        "data_ym_prod['maha season']['snake gourd'] = get_extent_production(sheet_obj_vegetables, start_raw_vegetables, \n",
        "                                                     columns_vegetables_tomatoes_m, 2020, 'sri lanka', ['sri lanka'])\n",
        "\n",
        "data_ym_prod['yala season']['beans'] = get_extent_production(sheet_obj_vegetables, start_raw_vegetables, \n",
        "                                                     columns_vegetables_beans_y, 2020, 'sri lanka', ['sri lanka'])\n",
        "data_ym_prod['yala season']['brinjals'] = get_extent_production(sheet_obj_vegetables, start_raw_vegetables, \n",
        "                                                     columns_vegetables_brinjals_y, 2020, 'sri lanka', ['sri lanka'])\n",
        "data_ym_prod['yala season']['cabbage'] = get_extent_production(sheet_obj_vegetables, start_raw_vegetables, \n",
        "                                                     columns_vegetables_cabbage_y, 2020, 'sri lanka', ['sri lanka'])\n",
        "data_ym_prod['yala season']['carrot'] = get_extent_production(sheet_obj_vegetables, start_raw_vegetables, \n",
        "                                                     columns_vegetables_carrot_y, 2020, 'sri lanka', ['sri lanka'])\n",
        "data_ym_prod['yala season']['red pumpkin'] = get_extent_production(sheet_obj_vegetables, start_raw_vegetables, \n",
        "                                                     columns_vegetables_red_pumpkin_y, 2020, 'sri lanka', ['sri lanka'])\n",
        "data_ym_prod['yala season']['snake gourd'] = get_extent_production(sheet_obj_vegetables, start_raw_vegetables, \n",
        "                                                     columns_vegetables_snake_gourd_y, 2020, 'sri lanka', ['sri lanka'])\n",
        "data_ym_prod['yala season']['snake gourd'] = get_extent_production(sheet_obj_vegetables, start_raw_vegetables, \n",
        "                                                     columns_vegetables_tomatoes_y, 2020, 'sri lanka', ['sri lanka'])"
      ],
      "metadata": {
        "id": "C8JgbWwbHGGG"
      },
      "execution_count": 25,
      "outputs": []
    },
    {
      "cell_type": "code",
      "source": [
        "sheet_name_fruit = wb_obj.sheetnames[2]\n",
        "sheet_obj_fruit = wb_obj[sheet_name_fruit]\n",
        "\n",
        "start_raw_fruit = 6\n",
        "\n",
        "columns_fruit_plantain = [3, 4, 5, 6]\n",
        "columns_fruit_limes = [3, 4, 7, 8]\n",
        "columns_fruit_oranges = [3, 4, 9, 10]\n",
        "columns_fruit_papaw = [3, 4, 11, 12]\n",
        "\n",
        "data_prod['plantain'] = get_extent_production(sheet_obj_fruit, start_raw_fruit, \n",
        "                                         columns_fruit_plantain, 2020, 'total', ['sri lanka', 'total'])\n",
        "data_prod['limes'] = get_extent_production(sheet_obj_fruit, start_raw_fruit, \n",
        "                                         columns_fruit_limes, 2020, 'total', ['sri lanka', 'total'])\n",
        "data_prod['oranges'] = get_extent_production(sheet_obj_fruit, start_raw_fruit, \n",
        "                                         columns_fruit_oranges, 2020, 'total', ['sri lanka', 'total'])\n",
        "data_prod['papaw'] = get_extent_production(sheet_obj_fruit, start_raw_fruit, \n",
        "                                         columns_fruit_papaw, 2020, 'total', ['sri lanka', 'total'])"
      ],
      "metadata": {
        "id": "_gAxqiYoqzGN"
      },
      "execution_count": 26,
      "outputs": []
    },
    {
      "cell_type": "code",
      "source": [
        "sheet_name_paddy = wb_obj.sheetnames[3]\n",
        "sheet_obj_paddy = wb_obj[sheet_name_paddy]\n",
        "\n",
        "start_raw_paddy = 5\n",
        "\n",
        "columns_paddy_m = [4, 5, 6, 7]\n",
        "columns_paddy_y = [4, 5, 8, 9]\n",
        "\n",
        "data_ym_prod['maha season']['paddy'] = get_extent_production(sheet_obj_paddy, start_raw_paddy, \n",
        "                                         columns_paddy_m, 2020, 'sri lanka', ['sri lanka', 'total'])\n",
        "data_ym_prod['yala season']['paddy'] = get_extent_production(sheet_obj_paddy, start_raw_paddy, \n",
        "                                         columns_paddy_y, 2020, 'sri lanka', ['sri lanka', 'total'])"
      ],
      "metadata": {
        "id": "WWYz_jO9q0n3"
      },
      "execution_count": 27,
      "outputs": []
    },
    {
      "cell_type": "code",
      "source": [
        "data_ym_prod['yala season'].keys()"
      ],
      "metadata": {
        "colab": {
          "base_uri": "https://localhost:8080/"
        },
        "id": "1yMNyEL2q410",
        "outputId": "a0231ca2-ee8f-4b1d-9dca-a10744970c2c"
      },
      "execution_count": 28,
      "outputs": [
        {
          "output_type": "execute_result",
          "data": {
            "text/plain": [
              "dict_keys(['potatoes', 'red onion', 'big onion', 'chillies', 'beans', 'brinjals', 'cabbage', 'carrot', 'red pumpkin', 'snake gourd', 'paddy'])"
            ]
          },
          "metadata": {},
          "execution_count": 28
        }
      ]
    },
    {
      "cell_type": "code",
      "source": [
        "data_ym_prod['maha season'].keys()"
      ],
      "metadata": {
        "colab": {
          "base_uri": "https://localhost:8080/"
        },
        "id": "rI7XbBNWq771",
        "outputId": "5e9f1ecd-cf1f-4a2b-9562-4f73b1d06e0c"
      },
      "execution_count": 29,
      "outputs": [
        {
          "output_type": "execute_result",
          "data": {
            "text/plain": [
              "dict_keys(['potatoes', 'red onion', 'big onion', 'chillies', 'beans', 'brinjals', 'cabbage', 'carrot', 'red pumpkin', 'snake gourd', 'paddy'])"
            ]
          },
          "metadata": {},
          "execution_count": 29
        }
      ]
    },
    {
      "cell_type": "code",
      "source": [
        "data_prod.keys()"
      ],
      "metadata": {
        "colab": {
          "base_uri": "https://localhost:8080/"
        },
        "id": "s9IggLo5q-eQ",
        "outputId": "e7257ef1-9932-46e4-d823-e2e0ef7581e5"
      },
      "execution_count": 30,
      "outputs": [
        {
          "output_type": "execute_result",
          "data": {
            "text/plain": [
              "dict_keys(['plantain', 'limes', 'oranges', 'papaw'])"
            ]
          },
          "metadata": {},
          "execution_count": 30
        }
      ]
    },
    {
      "cell_type": "markdown",
      "source": [
        "# Add Yala/Maha"
      ],
      "metadata": {
        "id": "MiZuDGKftOpT"
      }
    },
    {
      "cell_type": "code",
      "source": [
        "for crop_name in data_ym_prod['maha season'].keys():\n",
        "\n",
        "  data_prod[crop_name] = []\n",
        "\n",
        "  for i in range(len(data_ym_prod['maha season'][crop_name])):\n",
        "    year = data_ym_prod['maha season'][crop_name][i][0]\n",
        "    district = data_ym_prod['maha season'][crop_name][i][1]\n",
        "    extent = data_ym_prod['maha season'][crop_name][i][2] + data_ym_prod['yala season'][crop_name][i][2] # ha : hectare\n",
        "    production = data_ym_prod['maha season'][crop_name][i][3] + data_ym_prod['yala season'][crop_name][i][3] # mt : metric tons\n",
        "\n",
        "    data_prod[crop_name].append([year, district, extent, production])"
      ],
      "metadata": {
        "id": "Svq-CJT0rBDc"
      },
      "execution_count": 31,
      "outputs": []
    },
    {
      "cell_type": "code",
      "source": [
        "del data_ym_prod"
      ],
      "metadata": {
        "id": "iq-wv-5DrEQi"
      },
      "execution_count": 32,
      "outputs": []
    },
    {
      "cell_type": "code",
      "source": [
        "data_prod.keys()"
      ],
      "metadata": {
        "colab": {
          "base_uri": "https://localhost:8080/"
        },
        "id": "rs6qrWyfrHEU",
        "outputId": "d40efc45-4b95-4014-f2b2-9fadfd7842bf"
      },
      "execution_count": 33,
      "outputs": [
        {
          "output_type": "execute_result",
          "data": {
            "text/plain": [
              "dict_keys(['plantain', 'limes', 'oranges', 'papaw', 'potatoes', 'red onion', 'big onion', 'chillies', 'beans', 'brinjals', 'cabbage', 'carrot', 'red pumpkin', 'snake gourd', 'paddy'])"
            ]
          },
          "metadata": {},
          "execution_count": 33
        }
      ]
    },
    {
      "cell_type": "markdown",
      "source": [
        "# **Rain and Temperature (Data extraction and Preprocessing)**"
      ],
      "metadata": {
        "id": "_AtLd_gJCob8"
      }
    },
    {
      "cell_type": "markdown",
      "source": [
        "# Read data from excel"
      ],
      "metadata": {
        "id": "THLp32O4C4zq"
      }
    },
    {
      "cell_type": "code",
      "source": [
        "def get_raw(sheet_obj, start_column, raw, num_columns):\n",
        "\n",
        "    col_num = start_column\n",
        "    num_columns += start_column\n",
        "    lst = []\n",
        "\n",
        "    while(True):\n",
        "\n",
        "        cell_obj = sheet_obj.cell(row=raw, column=col_num)\n",
        "        if num_columns == col_num:\n",
        "          break\n",
        "        lst.append(cell_obj.value)\n",
        "        col_num += 1\n",
        "\n",
        "    return lst"
      ],
      "metadata": {
        "id": "GzmmqZe7DiLd"
      },
      "execution_count": 34,
      "outputs": []
    },
    {
      "cell_type": "code",
      "source": [
        "start_raw = 5\n",
        "start_column = 2\n",
        "num_columns = 17\n",
        "price_excel_path = \"//content//Rainfall.xlsx\"\n",
        "\n",
        "wb_obj = openpyxl.load_workbook(price_excel_path)\n",
        "sheet_name = wb_obj.sheetnames[1]\n",
        "sheet_obj = wb_obj[sheet_name]"
      ],
      "metadata": {
        "id": "SyEnSz6BDmvr"
      },
      "execution_count": 35,
      "outputs": []
    },
    {
      "cell_type": "code",
      "source": [
        "title_lst = get_column(sheet_obj, start_raw, start_column)"
      ],
      "metadata": {
        "id": "8EyBwZHDDp2l"
      },
      "execution_count": 36,
      "outputs": []
    },
    {
      "cell_type": "code",
      "source": [
        "temp_data = dict()\n",
        "rain_data = dict()\n",
        "district = ''\n",
        "districts = []\n",
        "\n",
        "for i, item in enumerate(title_lst):\n",
        "  if i%14 == 0:\n",
        "    district = item.strip().lower()\n",
        "    districts.append(district)\n",
        "    rain_data[district] = []\n",
        "    temp_data[district] = []\n",
        "  elif (i-1)%14 != 0:\n",
        "    rain_data[district].append(get_raw(sheet_obj, start_column+2, i+start_raw, 7))\n",
        "    temp_data[district].append(get_raw(sheet_obj, start_column+10, i+start_raw, 7))\n",
        "\n",
        "print(districts)"
      ],
      "metadata": {
        "colab": {
          "base_uri": "https://localhost:8080/"
        },
        "id": "mtzBtfSRDxsA",
        "outputId": "0eb37744-bd26-4aa6-d69c-484be1679eb9"
      },
      "execution_count": 37,
      "outputs": [
        {
          "output_type": "stream",
          "name": "stdout",
          "text": [
            "['colombo', 'jaffna', 'trincomalee', 'hambantota', 'ratnapura', 'anuradhapura', 'katugastota', 'bandarawela', 'nuwara eliya', 'kurunegala', 'puttalam', 'galle', 'badulla', 'mannar', 'vavuniya', 'mahailluppallama', 'batticaloa', 'katunayake', 'ratmalana', 'potuvil', 'monaragala', 'polonnaruwa', 'mattala', 'mulativu', 'kilinocchchi', 'gampaha', 'kegalle', 'matale', 'kandy']\n"
          ]
        }
      ]
    },
    {
      "cell_type": "markdown",
      "source": [
        "# Data Cleanup "
      ],
      "metadata": {
        "id": "kyqoMILVFGng"
      }
    },
    {
      "cell_type": "code",
      "source": [
        "for district in districts:\n",
        "  for i, lst in enumerate(rain_data[district]):\n",
        "    avg = 0\n",
        "    num_items = 0\n",
        "    for j, item in enumerate(lst):\n",
        "      val = 0\n",
        "      try: \n",
        "        val = float(item)\n",
        "        num_items += 1\n",
        "      except: pass\n",
        "      avg += val\n",
        "    avg /= num_items\n",
        "    for j, item in enumerate(lst):\n",
        "      try: float(item)\n",
        "      except: rain_data[district][i][j] = round(avg, 2)\n"
      ],
      "metadata": {
        "id": "aLU45bt8FRLp"
      },
      "execution_count": 44,
      "outputs": []
    },
    {
      "cell_type": "code",
      "source": [
        "rain_avg_year_data = {}\n",
        "temp_avg_year_data = {}\n",
        "temp_rain_districts = rain_data.keys()\n",
        "\n",
        "for district in temp_rain_districts:\n",
        "  rain_year_data = np.zeros(7, np.float16)\n",
        "\n",
        "  for month in range(12):\n",
        "    rain_year_data += np.array(rain_data[district][month], np.float16)\n",
        "  \n",
        "  rain_avg_year_data[district] = list(rain_year_data/12)"
      ],
      "metadata": {
        "id": "PhSOrQpdNB1c"
      },
      "execution_count": 46,
      "outputs": []
    }
  ]
}