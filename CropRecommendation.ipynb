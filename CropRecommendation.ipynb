{
  "nbformat": 4,
  "nbformat_minor": 0,
  "metadata": {
    "colab": {
      "name": "CropRecommendation.ipynb",
      "provenance": [],
      "authorship_tag": "ABX9TyMEfKjwKw9u+7XaTMlJCUId",
      "include_colab_link": true
    },
    "kernelspec": {
      "name": "python3",
      "display_name": "Python 3"
    },
    "language_info": {
      "name": "python"
    }
  },
  "cells": [
    {
      "cell_type": "markdown",
      "metadata": {
        "id": "view-in-github",
        "colab_type": "text"
      },
      "source": [
        "<a href=\"https://colab.research.google.com/github/maduSulakshi20/FarmCare/blob/Crop-Recommandation-(IT19199986)/CropRecommendation.ipynb\" target=\"_parent\"><img src=\"https://colab.research.google.com/assets/colab-badge.svg\" alt=\"Open In Colab\"/></a>"
      ]
    },
    {
      "cell_type": "markdown",
      "source": [
        "# **Imports**"
      ],
      "metadata": {
        "id": "H2a1Y-8k9b8u"
      }
    },
    {
      "cell_type": "code",
      "execution_count": 2,
      "metadata": {
        "id": "UwNrKXObcfYG"
      },
      "outputs": [],
      "source": [
        "import openpyxl\n",
        "import numpy as np\n",
        "import pandas as pd"
      ]
    },
    {
      "cell_type": "markdown",
      "source": [
        "# **Soil Type For Crops**"
      ],
      "metadata": {
        "id": "nEEKilh29r3K"
      }
    },
    {
      "cell_type": "code",
      "source": [
        "crop_soil_type = {\n",
        "    'fruits': ['diyasilu', 'regosols'],\n",
        "    'vegetable': [\n",
        "                  'reddish brown',\n",
        "                  'red yellow podzolic',\n",
        "                  'immature brown loams',\n",
        "                  'reddish brown latosolic',\n",
        "                  'lithosol',\n",
        "                  'diyasilu'\n",
        "                  ],\n",
        "    'red chili': ['red latosols'],\n",
        "    'rice': [\n",
        "            'reddish brown latosolic',\n",
        "            'immature brown loams',\n",
        "            'red yellow latasol',\n",
        "            'reddish brown',\n",
        "            'diyasilu',\n",
        "            'lithosol',\n",
        "            'red yellow podzolic',\n",
        "            ]\n",
        "}\n",
        "crop_to_soil_crop = {\n",
        "  'plantain':  'fruits',\n",
        "  'limes': 'fruits',\n",
        "  'oranges': 'fruits',\n",
        "  'papaw': 'fruits',\n",
        "  'potatoes': 'vegetable',\n",
        "  'red onion': 'vegetable',\n",
        "  'big onion': 'vegetable',\n",
        "  'chillies': 'red chili',\n",
        "  'beans': 'fruits',\n",
        "  'brinjals': 'fruits',\n",
        "  'cabbage': 'vegetable',\n",
        "  'carrot': 'vegetable',\n",
        "  'red pumpkin': 'vegetable',\n",
        "  'snake gourd': 'vegetable',\n",
        "  'paddy': 'rice'\n",
        "}"
      ],
      "metadata": {
        "id": "h8sFQb771nzQ"
      },
      "execution_count": 3,
      "outputs": []
    },
    {
      "cell_type": "markdown",
      "source": [
        "# **Production (Data extraction and preprocessing)**"
      ],
      "metadata": {
        "id": "RAedewn198et"
      }
    },
    {
      "cell_type": "markdown",
      "source": [
        "# Read data from excel"
      ],
      "metadata": {
        "id": "SPLGnXMT-Jgz"
      }
    },
    {
      "cell_type": "code",
      "source": [
        "def get_column(sheet_obj, start_raw_num, column_num):\n",
        "\n",
        "    raw_num = start_raw_num\n",
        "    lst = []\n",
        "\n",
        "    while(True):\n",
        "\n",
        "        cell_obj = sheet_obj.cell(row=raw_num, column=column_num)\n",
        "        if cell_obj.value == None:\n",
        "          break\n",
        "        lst.append(cell_obj.value)\n",
        "        raw_num += 1\n",
        "\n",
        "    return lst\n",
        "\n",
        "def get_raw(sheet_obj, raw, columns):\n",
        "\n",
        "    lst = []\n",
        "\n",
        "    for column in columns:\n",
        "      cell_obj = sheet_obj.cell(row=raw, column=column)\n",
        "      lst.append(cell_obj.value)\n",
        "\n",
        "    return lst\n",
        "\n",
        "def get_extent_production(sheet_obj, start_raw_other, columns, end_year, end_district, ignore_districts):\n",
        "  raw_num = start_raw_other\n",
        "  data = []\n",
        "  while True:\n",
        "    lst = get_raw(sheet_obj, raw_num, columns)\n",
        "\n",
        "    try: year = int(lst[0])\n",
        "    except: \n",
        "      raw_num += 1\n",
        "      continue\n",
        "\n",
        "    district = lst[1].strip().lower()\n",
        "    extent = lst[2]\n",
        "    production = lst[3]\n",
        "\n",
        "    if year == end_year and district == end_district: break\n",
        "\n",
        "    extent_val = 0.0\n",
        "    production_val = 0.0\n",
        "\n",
        "    try:\n",
        "      extent_val = float(extent)\n",
        "    except:\n",
        "      extent_val = 0.0\n",
        "\n",
        "    try:\n",
        "      production_val = float(production)\n",
        "    except:\n",
        "      production_val = 0.0\n",
        "\n",
        "    if district not in ignore_districts:\n",
        "      data.append([year, district, extent_val, production_val])\n",
        "\n",
        "    raw_num += 1\n",
        "  return data"
      ],
      "metadata": {
        "id": "3cyL8NUH6Q_o"
      },
      "execution_count": 4,
      "outputs": []
    },
    {
      "cell_type": "code",
      "source": [
        "price_excel_path = \"//content//Extent & Production.xlsx\"\n",
        "\n",
        "data_ym_prod = {\n",
        "    'maha season': {},\n",
        "    'yala season': {}\n",
        "}\n",
        "\n",
        "data_prod = {}\n",
        "\n",
        "wb_obj = openpyxl.load_workbook(price_excel_path)"
      ],
      "metadata": {
        "id": "42Hk1wmA_W3D"
      },
      "execution_count": 5,
      "outputs": []
    },
    {
      "cell_type": "code",
      "source": [
        ""
      ],
      "metadata": {
        "id": "oU7CyBXsEBug"
      },
      "execution_count": null,
      "outputs": []
    }
  ]
}