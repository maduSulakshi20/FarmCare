{
  "nbformat": 4,
  "nbformat_minor": 0,
  "metadata": {
    "colab": {
      "name": "CropRecommendation.ipynb",
      "provenance": [],
      "authorship_tag": "ABX9TyOp+S33iKj0H+zqS/7NsfIZ",
      "include_colab_link": true
    },
    "kernelspec": {
      "name": "python3",
      "display_name": "Python 3"
    },
    "language_info": {
      "name": "python"
    }
  },
  "cells": [
    {
      "cell_type": "markdown",
      "metadata": {
        "id": "view-in-github",
        "colab_type": "text"
      },
      "source": [
        "<a href=\"https://colab.research.google.com/github/maduSulakshi20/FarmCare/blob/Crop-Recommandation-(IT19199986)/CropRecommendation.ipynb\" target=\"_parent\"><img src=\"https://colab.research.google.com/assets/colab-badge.svg\" alt=\"Open In Colab\"/></a>"
      ]
    },
    {
      "cell_type": "markdown",
      "source": [
        "# **Imports**"
      ],
      "metadata": {
        "id": "H2a1Y-8k9b8u"
      }
    },
    {
      "cell_type": "code",
      "execution_count": 1,
      "metadata": {
        "id": "UwNrKXObcfYG"
      },
      "outputs": [],
      "source": [
        "import openpyxl\n",
        "import numpy as np\n",
        "import pandas as pd"
      ]
    },
    {
      "cell_type": "markdown",
      "source": [
        "# **Soil Type For Crops**"
      ],
      "metadata": {
        "id": "nEEKilh29r3K"
      }
    },
    {
      "cell_type": "code",
      "source": [
        "crop_soil_type = {\n",
        "    'fruits': ['diyasilu', 'regosols'],\n",
        "    'vegetable': [\n",
        "                  'reddish brown',\n",
        "                  'red yellow podzolic',\n",
        "                  'immature brown loams',\n",
        "                  'reddish brown latosolic',\n",
        "                  'lithosol',\n",
        "                  'diyasilu'\n",
        "                  ],\n",
        "    'red chili': ['red latosols'],\n",
        "    'rice': [\n",
        "            'reddish brown latosolic',\n",
        "            'immature brown loams',\n",
        "            'red yellow latasol',\n",
        "            'reddish brown',\n",
        "            'diyasilu',\n",
        "            'lithosol',\n",
        "            'red yellow podzolic',\n",
        "            ]\n",
        "}\n",
        "crop_to_soil_crop = {\n",
        "  'plantain':  'fruits',\n",
        "  'limes': 'fruits',\n",
        "  'oranges': 'fruits',\n",
        "  'papaw': 'fruits',\n",
        "  'potatoes': 'vegetable',\n",
        "  'red onion': 'vegetable',\n",
        "  'big onion': 'vegetable',\n",
        "  'chillies': 'red chili',\n",
        "  'beans': 'fruits',\n",
        "  'brinjals': 'fruits',\n",
        "  'cabbage': 'vegetable',\n",
        "  'carrot': 'vegetable',\n",
        "  'red pumpkin': 'vegetable',\n",
        "  'snake gourd': 'vegetable',\n",
        "  'paddy': 'rice'\n",
        "}"
      ],
      "metadata": {
        "id": "h8sFQb771nzQ"
      },
      "execution_count": 2,
      "outputs": []
    },
    {
      "cell_type": "markdown",
      "source": [
        "# **Production (Data extraction and preprocessing)**"
      ],
      "metadata": {
        "id": "RAedewn198et"
      }
    },
    {
      "cell_type": "markdown",
      "source": [
        "# Read data from excel"
      ],
      "metadata": {
        "id": "SPLGnXMT-Jgz"
      }
    },
    {
      "cell_type": "code",
      "source": [
        "def get_column(sheet_obj, start_raw_num, column_num):\n",
        "\n",
        "    raw_num = start_raw_num\n",
        "    lst = []\n",
        "\n",
        "    while(True):\n",
        "\n",
        "        cell_obj = sheet_obj.cell(row=raw_num, column=column_num)\n",
        "        if cell_obj.value == None:\n",
        "          break\n",
        "        lst.append(cell_obj.value)\n",
        "        raw_num += 1\n",
        "\n",
        "    return lst\n",
        "\n",
        "def get_raw(sheet_obj, raw, columns):\n",
        "\n",
        "    lst = []\n",
        "\n",
        "    for column in columns:\n",
        "      cell_obj = sheet_obj.cell(row=raw, column=column)\n",
        "      lst.append(cell_obj.value)\n",
        "\n",
        "    return lst\n",
        "\n",
        "def get_extent_production(sheet_obj, start_raw_other, columns, end_year, end_district, ignore_districts):\n",
        "  raw_num = start_raw_other\n",
        "  data = []\n",
        "  while True:\n",
        "    lst = get_raw(sheet_obj, raw_num, columns)\n",
        "\n",
        "    try: year = int(lst[0])\n",
        "    except: \n",
        "      raw_num += 1\n",
        "      continue\n",
        "\n",
        "    district = lst[1].strip().lower()\n",
        "    extent = lst[2]\n",
        "    production = lst[3]\n",
        "\n",
        "    if year == end_year and district == end_district: break\n",
        "\n",
        "    extent_val = 0.0\n",
        "    production_val = 0.0\n",
        "\n",
        "    try:\n",
        "      extent_val = float(extent)\n",
        "    except:\n",
        "      extent_val = 0.0\n",
        "\n",
        "    try:\n",
        "      production_val = float(production)\n",
        "    except:\n",
        "      production_val = 0.0\n",
        "\n",
        "    if district not in ignore_districts:\n",
        "      data.append([year, district, extent_val, production_val])\n",
        "\n",
        "    raw_num += 1\n",
        "  return data"
      ],
      "metadata": {
        "id": "3cyL8NUH6Q_o"
      },
      "execution_count": 3,
      "outputs": []
    },
    {
      "cell_type": "code",
      "source": [
        "price_excel_path = \"//content//Extent & Production.xlsx\"\n",
        "\n",
        "data_ym_prod = {\n",
        "    'maha season': {},\n",
        "    'yala season': {}\n",
        "}\n",
        "\n",
        "data_prod = {}\n",
        "\n",
        "wb_obj = openpyxl.load_workbook(price_excel_path)"
      ],
      "metadata": {
        "id": "42Hk1wmA_W3D"
      },
      "execution_count": 4,
      "outputs": []
    },
    {
      "cell_type": "code",
      "source": [
        "sheet_name_other = wb_obj.sheetnames[0]\n",
        "sheet_obj_other = wb_obj[sheet_name_other]\n",
        "\n",
        "start_raw_other = 5\n",
        "\n",
        "columns_other_potatoes_m = [3, 4, 5, 6]\n",
        "columns_other_red_onion_m = [3, 4, 7, 8]\n",
        "columns_other_big_onion_m = [3, 4, 9, 10]\n",
        "columns_other_chillies_m = [3, 4, 11, 12]\n",
        "\n",
        "columns_other_potatoes_y = [3, 4, 14, 15]\n",
        "columns_other_red_onion_y = [3, 4, 16, 17]\n",
        "columns_other_big_onion_y = [3, 4, 18, 19]\n",
        "columns_other_chillies_y = [3, 4, 20, 21]\n",
        "\n",
        "data_ym_prod['maha season']['potatoes'] = get_extent_production(sheet_obj_other, start_raw_other, columns_other_potatoes_m, \n",
        "                                                        2020, 'sri lanka', ['sri lanka'])\n",
        "data_ym_prod['maha season']['red onion'] = get_extent_production(sheet_obj_other, start_raw_other, columns_other_red_onion_m, \n",
        "                                                         2020, 'sri lanka', ['sri lanka'])\n",
        "data_ym_prod['maha season']['big onion'] = get_extent_production(sheet_obj_other, start_raw_other, columns_other_big_onion_m, \n",
        "                                                         2020, 'sri lanka', ['sri lanka'])\n",
        "data_ym_prod['maha season']['chillies'] = get_extent_production(sheet_obj_other, start_raw_other, columns_other_chillies_m, \n",
        "                                                         2020, 'sri lanka', ['sri lanka'])\n",
        "\n",
        "data_ym_prod['yala season']['potatoes'] = get_extent_production(sheet_obj_other, start_raw_other, columns_other_potatoes_y, \n",
        "                                                        2020, 'sri lanka', ['sri lanka'])\n",
        "data_ym_prod['yala season']['red onion'] = get_extent_production(sheet_obj_other, start_raw_other, columns_other_red_onion_y, \n",
        "                                                         2020, 'sri lanka', ['sri lanka'])\n",
        "data_ym_prod['yala season']['big onion'] = get_extent_production(sheet_obj_other, start_raw_other, columns_other_big_onion_y, \n",
        "                                                         2020, 'sri lanka', ['sri lanka'])\n",
        "data_ym_prod['yala season']['chillies'] = get_extent_production(sheet_obj_other, start_raw_other, columns_other_chillies_y, \n",
        "                                                         2020, 'sri lanka', ['sri lanka'])"
      ],
      "metadata": {
        "id": "oU7CyBXsEBug"
      },
      "execution_count": 5,
      "outputs": []
    },
    {
      "cell_type": "code",
      "source": [
        "sheet_name_vegetables = wb_obj.sheetnames[1]\n",
        "sheet_obj_vegetables = wb_obj[sheet_name_vegetables]\n",
        "\n",
        "start_raw_vegetables = 6\n",
        "\n",
        "columns_vegetables_beans_m = [3, 4, 5, 6]\n",
        "columns_vegetables_brinjals_m = [3, 4, 7, 8]\n",
        "columns_vegetables_cabbage_m = [3, 4, 9, 10]\n",
        "columns_vegetables_carrot_m = [3, 4, 11, 12]\n",
        "columns_vegetables_red_pumpkin_m = [3, 4, 13, 14]\n",
        "columns_vegetables_snake_gourd_m = [3, 4, 15, 16]\n",
        "columns_vegetables_tomatoes_m = [3, 4, 17, 18]\n",
        "\n",
        "columns_vegetables_beans_y = [3, 4, 20, 21]\n",
        "columns_vegetables_brinjals_y = [3, 4, 22, 23]\n",
        "columns_vegetables_cabbage_y = [3, 4, 24, 25]\n",
        "columns_vegetables_carrot_y = [3, 4, 26, 27]\n",
        "columns_vegetables_red_pumpkin_y = [3, 4, 28, 29]\n",
        "columns_vegetables_snake_gourd_y = [3, 4, 30, 31]\n",
        "columns_vegetables_tomatoes_y = [3, 4, 32, 33]\n",
        "\n",
        "data_ym_prod['maha season']['beans'] = get_extent_production(sheet_obj_vegetables, start_raw_vegetables, \n",
        "                                                     columns_vegetables_beans_m, 2020, 'sri lanka', ['sri lanka'])\n",
        "data_ym_prod['maha season']['brinjals'] = get_extent_production(sheet_obj_vegetables, start_raw_vegetables, \n",
        "                                                     columns_vegetables_brinjals_m, 2020, 'sri lanka', ['sri lanka'])\n",
        "data_ym_prod['maha season']['cabbage'] = get_extent_production(sheet_obj_vegetables, start_raw_vegetables, \n",
        "                                                     columns_vegetables_cabbage_m, 2020, 'sri lanka', ['sri lanka'])\n",
        "data_ym_prod['maha season']['carrot'] = get_extent_production(sheet_obj_vegetables, start_raw_vegetables, \n",
        "                                                     columns_vegetables_carrot_m, 2020, 'sri lanka', ['sri lanka'])\n",
        "data_ym_prod['maha season']['red pumpkin'] = get_extent_production(sheet_obj_vegetables, start_raw_vegetables, \n",
        "                                                     columns_vegetables_red_pumpkin_m, 2020, 'sri lanka', ['sri lanka'])\n",
        "data_ym_prod['maha season']['snake gourd'] = get_extent_production(sheet_obj_vegetables, start_raw_vegetables, \n",
        "                                                     columns_vegetables_snake_gourd_m, 2020, 'sri lanka', ['sri lanka'])\n",
        "data_ym_prod['maha season']['snake gourd'] = get_extent_production(sheet_obj_vegetables, start_raw_vegetables, \n",
        "                                                     columns_vegetables_tomatoes_m, 2020, 'sri lanka', ['sri lanka'])\n",
        "\n",
        "data_ym_prod['yala season']['beans'] = get_extent_production(sheet_obj_vegetables, start_raw_vegetables, \n",
        "                                                     columns_vegetables_beans_y, 2020, 'sri lanka', ['sri lanka'])\n",
        "data_ym_prod['yala season']['brinjals'] = get_extent_production(sheet_obj_vegetables, start_raw_vegetables, \n",
        "                                                     columns_vegetables_brinjals_y, 2020, 'sri lanka', ['sri lanka'])\n",
        "data_ym_prod['yala season']['cabbage'] = get_extent_production(sheet_obj_vegetables, start_raw_vegetables, \n",
        "                                                     columns_vegetables_cabbage_y, 2020, 'sri lanka', ['sri lanka'])\n",
        "data_ym_prod['yala season']['carrot'] = get_extent_production(sheet_obj_vegetables, start_raw_vegetables, \n",
        "                                                     columns_vegetables_carrot_y, 2020, 'sri lanka', ['sri lanka'])\n",
        "data_ym_prod['yala season']['red pumpkin'] = get_extent_production(sheet_obj_vegetables, start_raw_vegetables, \n",
        "                                                     columns_vegetables_red_pumpkin_y, 2020, 'sri lanka', ['sri lanka'])\n",
        "data_ym_prod['yala season']['snake gourd'] = get_extent_production(sheet_obj_vegetables, start_raw_vegetables, \n",
        "                                                     columns_vegetables_snake_gourd_y, 2020, 'sri lanka', ['sri lanka'])\n",
        "data_ym_prod['yala season']['snake gourd'] = get_extent_production(sheet_obj_vegetables, start_raw_vegetables, \n",
        "                                                     columns_vegetables_tomatoes_y, 2020, 'sri lanka', ['sri lanka'])"
      ],
      "metadata": {
        "id": "C8JgbWwbHGGG"
      },
      "execution_count": 6,
      "outputs": []
    },
    {
      "cell_type": "code",
      "source": [
        "sheet_name_fruit = wb_obj.sheetnames[2]\n",
        "sheet_obj_fruit = wb_obj[sheet_name_fruit]\n",
        "\n",
        "start_raw_fruit = 6\n",
        "\n",
        "columns_fruit_plantain = [3, 4, 5, 6]\n",
        "columns_fruit_limes = [3, 4, 7, 8]\n",
        "columns_fruit_oranges = [3, 4, 9, 10]\n",
        "columns_fruit_papaw = [3, 4, 11, 12]\n",
        "\n",
        "data_prod['plantain'] = get_extent_production(sheet_obj_fruit, start_raw_fruit, \n",
        "                                         columns_fruit_plantain, 2020, 'total', ['sri lanka', 'total'])\n",
        "data_prod['limes'] = get_extent_production(sheet_obj_fruit, start_raw_fruit, \n",
        "                                         columns_fruit_limes, 2020, 'total', ['sri lanka', 'total'])\n",
        "data_prod['oranges'] = get_extent_production(sheet_obj_fruit, start_raw_fruit, \n",
        "                                         columns_fruit_oranges, 2020, 'total', ['sri lanka', 'total'])\n",
        "data_prod['papaw'] = get_extent_production(sheet_obj_fruit, start_raw_fruit, \n",
        "                                         columns_fruit_papaw, 2020, 'total', ['sri lanka', 'total'])"
      ],
      "metadata": {
        "id": "_gAxqiYoqzGN"
      },
      "execution_count": 7,
      "outputs": []
    },
    {
      "cell_type": "code",
      "source": [
        "sheet_name_paddy = wb_obj.sheetnames[3]\n",
        "sheet_obj_paddy = wb_obj[sheet_name_paddy]\n",
        "\n",
        "start_raw_paddy = 5\n",
        "\n",
        "columns_paddy_m = [4, 5, 6, 7]\n",
        "columns_paddy_y = [4, 5, 8, 9]\n",
        "\n",
        "data_ym_prod['maha season']['paddy'] = get_extent_production(sheet_obj_paddy, start_raw_paddy, \n",
        "                                         columns_paddy_m, 2020, 'sri lanka', ['sri lanka', 'total'])\n",
        "data_ym_prod['yala season']['paddy'] = get_extent_production(sheet_obj_paddy, start_raw_paddy, \n",
        "                                         columns_paddy_y, 2020, 'sri lanka', ['sri lanka', 'total'])"
      ],
      "metadata": {
        "id": "WWYz_jO9q0n3"
      },
      "execution_count": 8,
      "outputs": []
    },
    {
      "cell_type": "code",
      "source": [
        "data_ym_prod['yala season'].keys()"
      ],
      "metadata": {
        "colab": {
          "base_uri": "https://localhost:8080/"
        },
        "id": "1yMNyEL2q410",
        "outputId": "1e5b457e-40e2-439a-b1e2-b1499d7d56cb"
      },
      "execution_count": 9,
      "outputs": [
        {
          "output_type": "execute_result",
          "data": {
            "text/plain": [
              "dict_keys(['potatoes', 'red onion', 'big onion', 'chillies', 'beans', 'brinjals', 'cabbage', 'carrot', 'red pumpkin', 'snake gourd', 'paddy'])"
            ]
          },
          "metadata": {},
          "execution_count": 9
        }
      ]
    },
    {
      "cell_type": "code",
      "source": [
        "data_ym_prod['maha season'].keys()"
      ],
      "metadata": {
        "colab": {
          "base_uri": "https://localhost:8080/"
        },
        "id": "rI7XbBNWq771",
        "outputId": "db7e0563-1701-4be3-dcc0-ff6f5bfe3c41"
      },
      "execution_count": 10,
      "outputs": [
        {
          "output_type": "execute_result",
          "data": {
            "text/plain": [
              "dict_keys(['potatoes', 'red onion', 'big onion', 'chillies', 'beans', 'brinjals', 'cabbage', 'carrot', 'red pumpkin', 'snake gourd', 'paddy'])"
            ]
          },
          "metadata": {},
          "execution_count": 10
        }
      ]
    },
    {
      "cell_type": "code",
      "source": [
        "data_prod.keys()"
      ],
      "metadata": {
        "colab": {
          "base_uri": "https://localhost:8080/"
        },
        "id": "s9IggLo5q-eQ",
        "outputId": "12ca50ea-e9ad-4358-e136-3c7999104b3a"
      },
      "execution_count": 11,
      "outputs": [
        {
          "output_type": "execute_result",
          "data": {
            "text/plain": [
              "dict_keys(['plantain', 'limes', 'oranges', 'papaw'])"
            ]
          },
          "metadata": {},
          "execution_count": 11
        }
      ]
    },
    {
      "cell_type": "markdown",
      "source": [
        "# Add Yala/Maha"
      ],
      "metadata": {
        "id": "MiZuDGKftOpT"
      }
    },
    {
      "cell_type": "code",
      "source": [
        "for crop_name in data_ym_prod['maha season'].keys():\n",
        "\n",
        "  data_prod[crop_name] = []\n",
        "\n",
        "  for i in range(len(data_ym_prod['maha season'][crop_name])):\n",
        "    year = data_ym_prod['maha season'][crop_name][i][0]\n",
        "    district = data_ym_prod['maha season'][crop_name][i][1]\n",
        "    extent = data_ym_prod['maha season'][crop_name][i][2] + data_ym_prod['yala season'][crop_name][i][2] # ha : hectare\n",
        "    production = data_ym_prod['maha season'][crop_name][i][3] + data_ym_prod['yala season'][crop_name][i][3] # mt : metric tons\n",
        "\n",
        "    data_prod[crop_name].append([year, district, extent, production])"
      ],
      "metadata": {
        "id": "Svq-CJT0rBDc"
      },
      "execution_count": 12,
      "outputs": []
    },
    {
      "cell_type": "code",
      "source": [
        "del data_ym_prod"
      ],
      "metadata": {
        "id": "iq-wv-5DrEQi"
      },
      "execution_count": 13,
      "outputs": []
    },
    {
      "cell_type": "code",
      "source": [
        "data_prod.keys()"
      ],
      "metadata": {
        "colab": {
          "base_uri": "https://localhost:8080/"
        },
        "id": "rs6qrWyfrHEU",
        "outputId": "1891f46a-1c5c-483e-f59c-94150d68d54e"
      },
      "execution_count": 14,
      "outputs": [
        {
          "output_type": "execute_result",
          "data": {
            "text/plain": [
              "dict_keys(['plantain', 'limes', 'oranges', 'papaw', 'potatoes', 'red onion', 'big onion', 'chillies', 'beans', 'brinjals', 'cabbage', 'carrot', 'red pumpkin', 'snake gourd', 'paddy'])"
            ]
          },
          "metadata": {},
          "execution_count": 14
        }
      ]
    },
    {
      "cell_type": "markdown",
      "source": [
        "# **MT per Ha**"
      ],
      "metadata": {
        "id": "FWUiXZi1dwgc"
      }
    },
    {
      "cell_type": "code",
      "source": [
        "for crop_name in data_prod.keys():\n",
        "\n",
        "  for i in range(len(data_prod[crop_name])):\n",
        "    if data_prod[crop_name][i][3] == 0: mt_per_ha = 0.0\n",
        "    else: mt_per_ha = data_prod[crop_name][i][2]/data_prod[crop_name][i][3]\n",
        "    data_prod[crop_name][i].append(mt_per_ha)"
      ],
      "metadata": {
        "id": "y9CdnqbCd434"
      },
      "execution_count": 22,
      "outputs": []
    },
    {
      "cell_type": "code",
      "source": [
        "data_prod['paddy'][0]"
      ],
      "metadata": {
        "colab": {
          "base_uri": "https://localhost:8080/"
        },
        "id": "bmNu7WBNd6Ql",
        "outputId": "27845a03-4b13-40d2-89aa-b0f691089045"
      },
      "execution_count": 23,
      "outputs": [
        {
          "output_type": "execute_result",
          "data": {
            "text/plain": [
              "[2016, 'colombo', 3298.0, 9250.0, 0.3565405405405405]"
            ]
          },
          "metadata": {},
          "execution_count": 23
        }
      ]
    },
    {
      "cell_type": "markdown",
      "source": [
        "# **Rain and Temperature (Data extraction and Preprocessing)**"
      ],
      "metadata": {
        "id": "_AtLd_gJCob8"
      }
    },
    {
      "cell_type": "markdown",
      "source": [
        "# Read data from excel"
      ],
      "metadata": {
        "id": "THLp32O4C4zq"
      }
    },
    {
      "cell_type": "code",
      "source": [
        "def get_raw(sheet_obj, start_column, raw, num_columns):\n",
        "\n",
        "    col_num = start_column\n",
        "    num_columns += start_column\n",
        "    lst = []\n",
        "\n",
        "    while(True):\n",
        "\n",
        "        cell_obj = sheet_obj.cell(row=raw, column=col_num)\n",
        "        if num_columns == col_num:\n",
        "          break\n",
        "        lst.append(cell_obj.value)\n",
        "        col_num += 1\n",
        "\n",
        "    return lst"
      ],
      "metadata": {
        "id": "GzmmqZe7DiLd"
      },
      "execution_count": 15,
      "outputs": []
    },
    {
      "cell_type": "code",
      "source": [
        "start_raw = 5\n",
        "start_column = 2\n",
        "num_columns = 17\n",
        "price_excel_path = \"//content//Rainfall.xlsx\"\n",
        "\n",
        "wb_obj = openpyxl.load_workbook(price_excel_path)\n",
        "sheet_name = wb_obj.sheetnames[1]\n",
        "sheet_obj = wb_obj[sheet_name]"
      ],
      "metadata": {
        "id": "SyEnSz6BDmvr"
      },
      "execution_count": 16,
      "outputs": []
    },
    {
      "cell_type": "code",
      "source": [
        "title_lst = get_column(sheet_obj, start_raw, start_column)"
      ],
      "metadata": {
        "id": "8EyBwZHDDp2l"
      },
      "execution_count": 17,
      "outputs": []
    },
    {
      "cell_type": "code",
      "source": [
        "temp_data = dict()\n",
        "rain_data = dict()\n",
        "district = ''\n",
        "districts = []\n",
        "\n",
        "for i, item in enumerate(title_lst):\n",
        "  if i%14 == 0:\n",
        "    district = item.strip().lower()\n",
        "    districts.append(district)\n",
        "    rain_data[district] = []\n",
        "    temp_data[district] = []\n",
        "  elif (i-1)%14 != 0:\n",
        "    rain_data[district].append(get_raw(sheet_obj, start_column+2, i+start_raw, 7))\n",
        "    temp_data[district].append(get_raw(sheet_obj, start_column+10, i+start_raw, 7))\n",
        "\n",
        "print(districts)"
      ],
      "metadata": {
        "colab": {
          "base_uri": "https://localhost:8080/"
        },
        "id": "mtzBtfSRDxsA",
        "outputId": "48a91ca8-361f-4ab9-e926-4300e2e9dda0"
      },
      "execution_count": 18,
      "outputs": [
        {
          "output_type": "stream",
          "name": "stdout",
          "text": [
            "['colombo', 'jaffna', 'trincomalee', 'hambantota', 'ratnapura', 'anuradhapura', 'katugastota', 'bandarawela', 'nuwara eliya', 'kurunegala', 'puttalam', 'galle', 'badulla', 'mannar', 'vavuniya', 'mahailluppallama', 'batticaloa', 'katunayake', 'ratmalana', 'potuvil', 'monaragala', 'polonnaruwa', 'mattala', 'mulativu', 'kilinocchchi', 'gampaha', 'kegalle', 'matale', 'kandy']\n"
          ]
        }
      ]
    },
    {
      "cell_type": "markdown",
      "source": [
        "# Data Cleanup "
      ],
      "metadata": {
        "id": "kyqoMILVFGng"
      }
    },
    {
      "cell_type": "code",
      "source": [
        "for district in districts:\n",
        "  for i, lst in enumerate(rain_data[district]):\n",
        "    avg = 0\n",
        "    num_items = 0\n",
        "    for j, item in enumerate(lst):\n",
        "      val = 0\n",
        "      try: \n",
        "        val = float(item)\n",
        "        num_items += 1\n",
        "      except: pass\n",
        "      avg += val\n",
        "    avg /= num_items\n",
        "    for j, item in enumerate(lst):\n",
        "      try: float(item)\n",
        "      except: rain_data[district][i][j] = round(avg, 2)\n",
        "\n",
        "\n",
        "for district in districts:\n",
        "  for i, lst in enumerate(temp_data[district]):\n",
        "    avg = 0\n",
        "    num_items = 0\n",
        "    for j, item in enumerate(lst):\n",
        "      val = 0\n",
        "      try: \n",
        "        val = float(item)\n",
        "        num_items += 1\n",
        "      except: pass\n",
        "      avg += val\n",
        "    if num_items == 0:\n",
        "        avg = 0\n",
        "    else:\n",
        "      avg /= num_items\n",
        "    for j, item in enumerate(lst):\n",
        "      try: float(item)\n",
        "      except: temp_data[district][i][j] = round(avg, 2)\n"
      ],
      "metadata": {
        "id": "aLU45bt8FRLp"
      },
      "execution_count": 19,
      "outputs": []
    },
    {
      "cell_type": "code",
      "source": [
        "rain_avg_year_data = {}\n",
        "temp_avg_year_data = {}\n",
        "temp_rain_districts = rain_data.keys()\n",
        "\n",
        "for district in temp_rain_districts:\n",
        "  rain_year_data = np.zeros(7, np.float16)\n",
        "  temp_year_data = np.zeros(7, np.float16)\n",
        "\n",
        "  for month in range(12):\n",
        "    rain_year_data += np.array(rain_data[district][month], np.float16)\n",
        "    temp_year_data += np.array(temp_data[district][month], np.float16)\n",
        "  \n",
        "  rain_avg_year_data[district] = list(rain_year_data/12)\n",
        "  temp_avg_year_data[district] = list(temp_year_data/12)"
      ],
      "metadata": {
        "id": "PhSOrQpdNB1c"
      },
      "execution_count": 20,
      "outputs": []
    },
    {
      "cell_type": "markdown",
      "source": [
        "# **Create main data tablefor train model**"
      ],
      "metadata": {
        "id": "E3EDDXtqdKdP"
      }
    },
    {
      "cell_type": "markdown",
      "source": [
        "# Link Rainfall, temperature and Production data"
      ],
      "metadata": {
        "id": "F441be71dTSe"
      }
    },
    {
      "cell_type": "code",
      "source": [
        "data_prod_temp_rain = []\n",
        "\n",
        "# year | district | production MTs per year per Ha | avg rain (year) | avg temp (year)\n",
        "\n",
        "for crop in data_prod.keys():\n",
        "  for crop_prod_data in data_prod[crop]:\n",
        "    district = crop_prod_data[1]\n",
        "    if district not in temp_rain_districts: continue\n",
        "\n",
        "    year = crop_prod_data[0]\n",
        "    prod_per_year_per_ha = crop_prod_data[4]\n",
        "    lst = [crop, district, \n",
        "           rain_avg_year_data[district][year - 2015],\n",
        "           temp_avg_year_data[district][year - 2015],\n",
        "           prod_per_year_per_ha, year]\n",
        "    data_prod_temp_rain.append(lst)"
      ],
      "metadata": {
        "id": "xLBQ4fsEddjJ"
      },
      "execution_count": 24,
      "outputs": []
    },
    {
      "cell_type": "code",
      "source": [
        "len(data_prod_temp_rain)"
      ],
      "metadata": {
        "colab": {
          "base_uri": "https://localhost:8080/"
        },
        "id": "_JjAWcTqdkhb",
        "outputId": "cb171516-9984-4e92-b080-9999d4a90827"
      },
      "execution_count": 25,
      "outputs": [
        {
          "output_type": "execute_result",
          "data": {
            "text/plain": [
              "1430"
            ]
          },
          "metadata": {},
          "execution_count": 25
        }
      ]
    },
    {
      "cell_type": "code",
      "source": [
        "main_table = pd.DataFrame(\n",
        "    data_prod_temp_rain,\n",
        "    columns=['crop', 'district', 'avg rain (year)', 'avg temp (year)', 'MTs/year/Ha', 'year'],\n",
        "    )"
      ],
      "metadata": {
        "id": "aXafEzo_eEju"
      },
      "execution_count": 26,
      "outputs": []
    },
    {
      "cell_type": "code",
      "source": [
        "main_table"
      ],
      "metadata": {
        "colab": {
          "base_uri": "https://localhost:8080/",
          "height": 424
        },
        "id": "tjTmNFSYeHEp",
        "outputId": "b9811760-192b-45fe-f5ae-96cd93acf59d"
      },
      "execution_count": 27,
      "outputs": [
        {
          "output_type": "execute_result",
          "data": {
            "text/plain": [
              "          crop      district  avg rain (year)  avg temp (year)  MTs/year/Ha  \\\n",
              "0     plantain       colombo        196.50000        28.671875     0.553284   \n",
              "1     plantain       gampaha        184.62500         0.000000     0.472412   \n",
              "2     plantain         kandy        253.37500         0.000000     0.601358   \n",
              "3     plantain        matale        167.25000         0.000000     1.065611   \n",
              "4     plantain  nuwara eliya         94.81250        16.546875     1.677609   \n",
              "...        ...           ...              ...              ...          ...   \n",
              "1425     paddy  anuradhapura        105.18750        28.390625     0.230611   \n",
              "1426     paddy   polonnaruwa        120.81250        28.859375     0.213279   \n",
              "1427     paddy   trincomalee        124.75000        28.921875     0.228938   \n",
              "1428     paddy    batticaloa        134.62500        28.890625     0.298403   \n",
              "1429     paddy    hambantota         59.78125       262.500000     0.186375   \n",
              "\n",
              "      year  \n",
              "0     2016  \n",
              "1     2016  \n",
              "2     2016  \n",
              "3     2016  \n",
              "4     2016  \n",
              "...    ...  \n",
              "1425  2020  \n",
              "1426  2020  \n",
              "1427  2020  \n",
              "1428  2020  \n",
              "1429  2020  \n",
              "\n",
              "[1430 rows x 6 columns]"
            ],
            "text/html": [
              "\n",
              "  <div id=\"df-bb99fcff-3760-47c1-bb62-279f3637fae5\">\n",
              "    <div class=\"colab-df-container\">\n",
              "      <div>\n",
              "<style scoped>\n",
              "    .dataframe tbody tr th:only-of-type {\n",
              "        vertical-align: middle;\n",
              "    }\n",
              "\n",
              "    .dataframe tbody tr th {\n",
              "        vertical-align: top;\n",
              "    }\n",
              "\n",
              "    .dataframe thead th {\n",
              "        text-align: right;\n",
              "    }\n",
              "</style>\n",
              "<table border=\"1\" class=\"dataframe\">\n",
              "  <thead>\n",
              "    <tr style=\"text-align: right;\">\n",
              "      <th></th>\n",
              "      <th>crop</th>\n",
              "      <th>district</th>\n",
              "      <th>avg rain (year)</th>\n",
              "      <th>avg temp (year)</th>\n",
              "      <th>MTs/year/Ha</th>\n",
              "      <th>year</th>\n",
              "    </tr>\n",
              "  </thead>\n",
              "  <tbody>\n",
              "    <tr>\n",
              "      <th>0</th>\n",
              "      <td>plantain</td>\n",
              "      <td>colombo</td>\n",
              "      <td>196.50000</td>\n",
              "      <td>28.671875</td>\n",
              "      <td>0.553284</td>\n",
              "      <td>2016</td>\n",
              "    </tr>\n",
              "    <tr>\n",
              "      <th>1</th>\n",
              "      <td>plantain</td>\n",
              "      <td>gampaha</td>\n",
              "      <td>184.62500</td>\n",
              "      <td>0.000000</td>\n",
              "      <td>0.472412</td>\n",
              "      <td>2016</td>\n",
              "    </tr>\n",
              "    <tr>\n",
              "      <th>2</th>\n",
              "      <td>plantain</td>\n",
              "      <td>kandy</td>\n",
              "      <td>253.37500</td>\n",
              "      <td>0.000000</td>\n",
              "      <td>0.601358</td>\n",
              "      <td>2016</td>\n",
              "    </tr>\n",
              "    <tr>\n",
              "      <th>3</th>\n",
              "      <td>plantain</td>\n",
              "      <td>matale</td>\n",
              "      <td>167.25000</td>\n",
              "      <td>0.000000</td>\n",
              "      <td>1.065611</td>\n",
              "      <td>2016</td>\n",
              "    </tr>\n",
              "    <tr>\n",
              "      <th>4</th>\n",
              "      <td>plantain</td>\n",
              "      <td>nuwara eliya</td>\n",
              "      <td>94.81250</td>\n",
              "      <td>16.546875</td>\n",
              "      <td>1.677609</td>\n",
              "      <td>2016</td>\n",
              "    </tr>\n",
              "    <tr>\n",
              "      <th>...</th>\n",
              "      <td>...</td>\n",
              "      <td>...</td>\n",
              "      <td>...</td>\n",
              "      <td>...</td>\n",
              "      <td>...</td>\n",
              "      <td>...</td>\n",
              "    </tr>\n",
              "    <tr>\n",
              "      <th>1425</th>\n",
              "      <td>paddy</td>\n",
              "      <td>anuradhapura</td>\n",
              "      <td>105.18750</td>\n",
              "      <td>28.390625</td>\n",
              "      <td>0.230611</td>\n",
              "      <td>2020</td>\n",
              "    </tr>\n",
              "    <tr>\n",
              "      <th>1426</th>\n",
              "      <td>paddy</td>\n",
              "      <td>polonnaruwa</td>\n",
              "      <td>120.81250</td>\n",
              "      <td>28.859375</td>\n",
              "      <td>0.213279</td>\n",
              "      <td>2020</td>\n",
              "    </tr>\n",
              "    <tr>\n",
              "      <th>1427</th>\n",
              "      <td>paddy</td>\n",
              "      <td>trincomalee</td>\n",
              "      <td>124.75000</td>\n",
              "      <td>28.921875</td>\n",
              "      <td>0.228938</td>\n",
              "      <td>2020</td>\n",
              "    </tr>\n",
              "    <tr>\n",
              "      <th>1428</th>\n",
              "      <td>paddy</td>\n",
              "      <td>batticaloa</td>\n",
              "      <td>134.62500</td>\n",
              "      <td>28.890625</td>\n",
              "      <td>0.298403</td>\n",
              "      <td>2020</td>\n",
              "    </tr>\n",
              "    <tr>\n",
              "      <th>1429</th>\n",
              "      <td>paddy</td>\n",
              "      <td>hambantota</td>\n",
              "      <td>59.78125</td>\n",
              "      <td>262.500000</td>\n",
              "      <td>0.186375</td>\n",
              "      <td>2020</td>\n",
              "    </tr>\n",
              "  </tbody>\n",
              "</table>\n",
              "<p>1430 rows × 6 columns</p>\n",
              "</div>\n",
              "      <button class=\"colab-df-convert\" onclick=\"convertToInteractive('df-bb99fcff-3760-47c1-bb62-279f3637fae5')\"\n",
              "              title=\"Convert this dataframe to an interactive table.\"\n",
              "              style=\"display:none;\">\n",
              "        \n",
              "  <svg xmlns=\"http://www.w3.org/2000/svg\" height=\"24px\"viewBox=\"0 0 24 24\"\n",
              "       width=\"24px\">\n",
              "    <path d=\"M0 0h24v24H0V0z\" fill=\"none\"/>\n",
              "    <path d=\"M18.56 5.44l.94 2.06.94-2.06 2.06-.94-2.06-.94-.94-2.06-.94 2.06-2.06.94zm-11 1L8.5 8.5l.94-2.06 2.06-.94-2.06-.94L8.5 2.5l-.94 2.06-2.06.94zm10 10l.94 2.06.94-2.06 2.06-.94-2.06-.94-.94-2.06-.94 2.06-2.06.94z\"/><path d=\"M17.41 7.96l-1.37-1.37c-.4-.4-.92-.59-1.43-.59-.52 0-1.04.2-1.43.59L10.3 9.45l-7.72 7.72c-.78.78-.78 2.05 0 2.83L4 21.41c.39.39.9.59 1.41.59.51 0 1.02-.2 1.41-.59l7.78-7.78 2.81-2.81c.8-.78.8-2.07 0-2.86zM5.41 20L4 18.59l7.72-7.72 1.47 1.35L5.41 20z\"/>\n",
              "  </svg>\n",
              "      </button>\n",
              "      \n",
              "  <style>\n",
              "    .colab-df-container {\n",
              "      display:flex;\n",
              "      flex-wrap:wrap;\n",
              "      gap: 12px;\n",
              "    }\n",
              "\n",
              "    .colab-df-convert {\n",
              "      background-color: #E8F0FE;\n",
              "      border: none;\n",
              "      border-radius: 50%;\n",
              "      cursor: pointer;\n",
              "      display: none;\n",
              "      fill: #1967D2;\n",
              "      height: 32px;\n",
              "      padding: 0 0 0 0;\n",
              "      width: 32px;\n",
              "    }\n",
              "\n",
              "    .colab-df-convert:hover {\n",
              "      background-color: #E2EBFA;\n",
              "      box-shadow: 0px 1px 2px rgba(60, 64, 67, 0.3), 0px 1px 3px 1px rgba(60, 64, 67, 0.15);\n",
              "      fill: #174EA6;\n",
              "    }\n",
              "\n",
              "    [theme=dark] .colab-df-convert {\n",
              "      background-color: #3B4455;\n",
              "      fill: #D2E3FC;\n",
              "    }\n",
              "\n",
              "    [theme=dark] .colab-df-convert:hover {\n",
              "      background-color: #434B5C;\n",
              "      box-shadow: 0px 1px 3px 1px rgba(0, 0, 0, 0.15);\n",
              "      filter: drop-shadow(0px 1px 2px rgba(0, 0, 0, 0.3));\n",
              "      fill: #FFFFFF;\n",
              "    }\n",
              "  </style>\n",
              "\n",
              "      <script>\n",
              "        const buttonEl =\n",
              "          document.querySelector('#df-bb99fcff-3760-47c1-bb62-279f3637fae5 button.colab-df-convert');\n",
              "        buttonEl.style.display =\n",
              "          google.colab.kernel.accessAllowed ? 'block' : 'none';\n",
              "\n",
              "        async function convertToInteractive(key) {\n",
              "          const element = document.querySelector('#df-bb99fcff-3760-47c1-bb62-279f3637fae5');\n",
              "          const dataTable =\n",
              "            await google.colab.kernel.invokeFunction('convertToInteractive',\n",
              "                                                     [key], {});\n",
              "          if (!dataTable) return;\n",
              "\n",
              "          const docLinkHtml = 'Like what you see? Visit the ' +\n",
              "            '<a target=\"_blank\" href=https://colab.research.google.com/notebooks/data_table.ipynb>data table notebook</a>'\n",
              "            + ' to learn more about interactive tables.';\n",
              "          element.innerHTML = '';\n",
              "          dataTable['output_type'] = 'display_data';\n",
              "          await google.colab.output.renderOutput(dataTable, element);\n",
              "          const docLink = document.createElement('div');\n",
              "          docLink.innerHTML = docLinkHtml;\n",
              "          element.appendChild(docLink);\n",
              "        }\n",
              "      </script>\n",
              "    </div>\n",
              "  </div>\n",
              "  "
            ]
          },
          "metadata": {},
          "execution_count": 27
        }
      ]
    }
  ]
}